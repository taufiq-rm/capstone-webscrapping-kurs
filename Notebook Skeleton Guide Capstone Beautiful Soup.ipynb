{
 "cells": [
  {
   "cell_type": "markdown",
   "metadata": {},
   "source": [
    "# Webscrapping menggunakan BeautifulSoup\n",
    "\n",
    "Panduan untuk mengambil data kurs harian (US Dolar vs Rupiah) dari sebuah situs.\n",
    "\n",
    "## Latar Belakang \n",
    "\n",
    "Tim Data Analitik ditugaskan untuk mengambil data kurs harian (US Dolar) dari situs www.exchange-rates.org. Exchange-Rates.org adalah sebuah situs yang memiliki fitur untuk memeriksa nilai tukar mata uang asing dengan data yang selalu diperbaharui dan disediakan oleh salah satu perusahaan keuangan terkemuka. Data yang ditampilkan dalam situs tersebut selalu akurat, terpercaya dan mudah dipahami. Pengambilan data kurs harian ini ditujukan untuk pembelajaran dari Tim Data Analitik. Agar data kurs harian dapat diolah dan disajikan dengan baik, maka dapat menggunakan teknik scrapping menggunakan BeautifulSoup.\n",
    "\n",
    "Langkah-langkah persiapan:\n",
    "1. Membuka Anaconda Prompt\n",
    "2. Membuat environment dengan nama capstone1 :\n",
    "   #### conda create --name casptone1 python=3.10 \n",
    "   -\n",
    "3. Mengaktifkan environment:\n",
    "   #### conda activate casptone1\n",
    "   -\n",
    "4. Memasang kernel di dalam environment yang sudah dipersiapkan pada file requirement.txt yang berisikan:\n",
    "    - beautifulSoup4 \n",
    "    - pandas \n",
    "    - matplotlibs\n",
    "    \n",
    "    \n",
    "   #### pip install -r requirements.txt\n",
    "   -\n",
    "\n",
    "5. Setelah selesai instalasi dan masuk melalui jupyter notebook, maka dimulai dengan meminta data ke situs yang dituju menggunakan metode \"get\"\n"
   ]
  },
  {
   "cell_type": "code",
   "execution_count": 1,
   "metadata": {
    "ExecuteTime": {
     "end_time": "2020-01-13T05:12:23.275508Z",
     "start_time": "2020-01-13T05:12:20.009898Z"
    }
   },
   "outputs": [],
   "source": [
    "import requests\n",
    "\n",
    "url_get = requests.get('https://www.exchange-rates.org/history/IDR/USD/T')"
   ]
  },
  {
   "cell_type": "markdown",
   "metadata": {},
   "source": [
    "Setelah mendapatkan data dari situs tersebut melalui \"requests.get\" maka data yang ditampilkan akan dibatasi sebanyak 500 karakter"
   ]
  },
  {
   "cell_type": "code",
   "execution_count": 2,
   "metadata": {
    "ExecuteTime": {
     "end_time": "2020-01-13T05:12:23.290648Z",
     "start_time": "2020-01-13T05:12:23.277650Z"
    }
   },
   "outputs": [
    {
     "data": {
      "text/plain": [
       "b'!DOCTYPE html>\\r\\n<!--[if lt IE 9]>\\r\\n<html class=\"no-js ie8 oldie\" lang=\"en\" xml:lang=\\'en\\'>\\r\\n<![endif]-->\\r\\n<!--[if gt IE 8]><!--><html class=\"no-js\" lang=\"en\" xml:lang=\\'en\\'><!--<![endif]-->\\r\\n<head>\\r\\n<title>USD to IDR exchange rate history</title>\\r\\n<meta http-equiv=\"X-UA-Compatible\" content=\"IE=edge\">\\r\\n<meta name=\"viewport\" content=\"width=device-width, initial-scale=1, maximum-scale=5\">\\r\\n<meta charset=\"utf-8\" /><meta http-equiv=\"Content-Type\" content=\"text/html; charset=utf-8\" />\\r\\n<base href=\"http'"
      ]
     },
     "execution_count": 2,
     "metadata": {},
     "output_type": "execute_result"
    }
   ],
   "source": [
    "url_get.content[1:500]"
   ]
  },
  {
   "cell_type": "markdown",
   "metadata": {},
   "source": [
    "Data yang ditampilkan diatas rumit dan tidak terstruktur, maka dengan bantuan \"BeautifulSoup\" akan lebih mudah dipahami"
   ]
  },
  {
   "cell_type": "code",
   "execution_count": 3,
   "metadata": {
    "ExecuteTime": {
     "end_time": "2020-01-13T05:12:23.808122Z",
     "start_time": "2020-01-13T05:12:23.292610Z"
    }
   },
   "outputs": [],
   "source": [
    "from bs4 import BeautifulSoup \n",
    "\n",
    "soup = BeautifulSoup(url_get.content,\"html.parser\")"
   ]
  },
  {
   "cell_type": "code",
   "execution_count": 4,
   "metadata": {
    "scrolled": true
   },
   "outputs": [
    {
     "name": "stdout",
     "output_type": "stream",
     "text": [
      "<class 'bs4.BeautifulSoup'>\n"
     ]
    }
   ],
   "source": [
    "print(type(soup))"
   ]
  },
  {
   "cell_type": "code",
   "execution_count": 5,
   "metadata": {},
   "outputs": [
    {
     "name": "stdout",
     "output_type": "stream",
     "text": [
      "<!DOCTYPE html>\n",
      "<!--[if lt IE 9]>\r\n",
      "<html class=\"no-js ie8 oldie\" lang=\"en\" xml:lang='en'>\r\n",
      "<![endif]-->\n",
      "<!--[if gt IE 8]><!-->\n",
      "<html class=\"no-js\" lang=\"en\" xml:lang=\"en\">\n",
      " <!--<![endif]-->\n",
      " <head>\n",
      "  <title>\n",
      "   USD to IDR exchange rate history\n",
      "  </title>\n",
      "  <meta content=\"IE=edge\" http-equiv=\"X-UA-Compatible\"/>\n",
      "  <meta content=\"width=device-width, initial-scale=1, maximum-scale=5\" name=\"viewport\"/>\n",
      "  <meta charset=\"utf-8\">\n",
      "   <meta content=\"text/html; charset=utf-8\" http-equiv=\"Content-Type\">\n",
      "   \n"
     ]
    }
   ],
   "source": [
    "print(soup.prettify()[:500])"
   ]
  },
  {
   "cell_type": "markdown",
   "metadata": {},
   "source": [
    "## Menentukan kunci yang tepat untuk menghasilkan data yang akurat"
   ]
  },
  {
   "cell_type": "markdown",
   "metadata": {},
   "source": [
    "Melalui metode \".find\" untuk mencari data yang akurat"
   ]
  },
  {
   "cell_type": "code",
   "execution_count": 6,
   "metadata": {
    "ExecuteTime": {
     "end_time": "2020-01-13T05:12:23.878904Z",
     "start_time": "2020-01-13T05:12:23.854974Z"
    }
   },
   "outputs": [
    {
     "name": "stdout",
     "output_type": "stream",
     "text": [
      "table border=\"0\" cellpadding=\"0\" cellspacing=\"0\" class=\"history-rates-data\">\n",
      " <thead>\n",
      "  <tr>\n",
      "   <th class=\"ltr-bidi-fix\">\n",
      "    Date\n",
      "   </th>\n",
      "   <th class=\"ltr-bidi-fix\">\n",
      "    US Dollar to Indonesian Rupiah\n",
      "   </th>\n",
      "  </tr>\n",
      " </thead>\n",
      " <tbody>\n",
      "  <tr>\n",
      "   <td>\n",
      "    <a class=\"w\" href=\"/exchange-rate-history/usd-idr-2023-09-01\">\n",
      "     September 1, 2023\n",
      "    </a>\n",
      "    <a class=\"n\" href=\"/exchange-rate-history/usd-idr-2023-09-01\">\n",
      "     2023-9-1\n",
      "    </a>\n",
      "   </td>\n",
      "   <td>\n",
      "    <span class=\"w\">\n",
      "     <span class=\"nowrap\">\n",
      "      <span class=\"currencySymbol\">\n",
      "       $\n",
      "      </span>\n",
      "      1 =\n",
      "     </span>\n",
      "     <span class=\"nowrap\">\n",
      "      <span class=\"currencySymbol\">\n",
      "       Rp\n",
      "      </span>\n",
      "      15,258\n",
      "     </span>\n",
      "    </span>\n",
      "    <span class=\"n\">\n",
      "     <span class=\"nowrap\">\n",
      "      <span class=\"currencySymbol\">\n",
      "       $\n",
      "      </span>\n",
      "      1 =\n",
      "     </span>\n",
      "     <span class=\"nowrap\">\n",
      "      <span class=\"currencySymbol\">\n",
      "       Rp\n",
      "      </span>\n",
      "      15,258\n",
      "     </span>\n",
      "    </span>\n",
      "   </td>\n",
      "  </tr>\n",
      "  <tr class\n"
     ]
    }
   ],
   "source": [
    "table = soup.find('table', attrs={'class':\"history-rates-data\"})\n",
    "print(table.prettify()[1:1000])"
   ]
  },
  {
   "cell_type": "markdown",
   "metadata": {},
   "source": [
    "maka akan didapatkan jumlah barisnya"
   ]
  },
  {
   "cell_type": "code",
   "execution_count": 7,
   "metadata": {},
   "outputs": [
    {
     "data": {
      "text/plain": [
       "130"
      ]
     },
     "execution_count": 7,
     "metadata": {},
     "output_type": "execute_result"
    }
   ],
   "source": [
    "row = table.find_all('a', attrs={'class':'w'}) \n",
    "row_length = len(row)\n",
    "row_length                "
   ]
  },
  {
   "cell_type": "markdown",
   "metadata": {},
   "source": [
    "Melakukan proses scarpping dengan perintah untuk mendapatkan tanggal dan kurs"
   ]
  },
  {
   "cell_type": "code",
   "execution_count": 8,
   "metadata": {},
   "outputs": [
    {
     "data": {
      "text/plain": [
       "[('2023-8-31', '$1 = Rp15,225'),\n",
       " ('2023-8-30', '$1 = Rp15,223'),\n",
       " ('2023-8-29', '$1 = Rp15,202'),\n",
       " ('2023-8-28', '$1 = Rp15,248'),\n",
       " ('2023-8-25', '$1 = Rp15,298'),\n",
       " ('2023-8-24', '$1 = Rp15,246'),\n",
       " ('2023-8-23', '$1 = Rp15,301'),\n",
       " ('2023-8-22', '$1 = Rp15,324'),\n",
       " ('2023-8-21', '$1 = Rp15,325'),\n",
       " ('2023-8-18', '$1 = Rp15,321'),\n",
       " ('2023-8-17', '$1 = Rp15,343'),\n",
       " ('2023-8-16', '$1 = Rp15,369'),\n",
       " ('2023-8-15', '$1 = Rp15,318'),\n",
       " ('2023-8-14', '$1 = Rp15,330'),\n",
       " ('2023-8-11', '$1 = Rp15,324'),\n",
       " ('2023-8-10', '$1 = Rp15,263'),\n",
       " ('2023-8-9', '$1 = Rp15,214'),\n",
       " ('2023-8-8', '$1 = Rp15,212'),\n",
       " ('2023-8-7', '$1 = Rp15,225'),\n",
       " ('2023-8-4', '$1 = Rp15,153'),\n",
       " ('2023-8-3', '$1 = Rp15,148'),\n",
       " ('2023-8-2', '$1 = Rp15,227'),\n",
       " ('2023-8-1', '$1 = Rp15,121'),\n",
       " ('2023-7-31', '$1 = Rp15,099'),\n",
       " ('2023-7-28', '$1 = Rp15,107'),\n",
       " ('2023-7-27', '$1 = Rp15,102'),\n",
       " ('2023-7-26', '$1 = Rp15,009'),\n",
       " ('2023-7-25', '$1 = Rp15,027'),\n",
       " ('2023-7-24', '$1 = Rp15,022'),\n",
       " ('2023-7-21', '$1 = Rp15,043'),\n",
       " ('2023-7-20', '$1 = Rp15,056'),\n",
       " ('2023-7-19', '$1 = Rp15,009'),\n",
       " ('2023-7-18', '$1 = Rp14,989'),\n",
       " ('2023-7-17', '$1 = Rp14,972'),\n",
       " ('2023-7-14', '$1 = Rp15,003'),\n",
       " ('2023-7-13', '$1 = Rp14,954'),\n",
       " ('2023-7-12', '$1 = Rp14,935'),\n",
       " ('2023-7-11', '$1 = Rp15,140'),\n",
       " ('2023-7-10', '$1 = Rp15,187'),\n",
       " ('2023-7-7', '$1 = Rp15,162'),\n",
       " ('2023-7-6', '$1 = Rp15,178'),\n",
       " ('2023-7-5', '$1 = Rp15,078'),\n",
       " ('2023-7-4', '$1 = Rp15,020'),\n",
       " ('2023-7-3', '$1 = Rp15,063'),\n",
       " ('2023-6-30', '$1 = Rp15,040'),\n",
       " ('2023-6-29', '$1 = Rp15,059'),\n",
       " ('2023-6-28', '$1 = Rp14,985'),\n",
       " ('2023-6-27', '$1 = Rp14,988'),\n",
       " ('2023-6-26', '$1 = Rp15,045'),\n",
       " ('2023-6-23', '$1 = Rp15,045'),\n",
       " ('2023-6-22', '$1 = Rp14,939'),\n",
       " ('2023-6-21', '$1 = Rp14,945'),\n",
       " ('2023-6-20', '$1 = Rp15,015'),\n",
       " ('2023-6-19', '$1 = Rp15,014'),\n",
       " ('2023-6-16', '$1 = Rp14,961'),\n",
       " ('2023-6-15', '$1 = Rp14,903'),\n",
       " ('2023-6-14', '$1 = Rp14,907'),\n",
       " ('2023-6-13', '$1 = Rp14,870'),\n",
       " ('2023-6-12', '$1 = Rp14,872'),\n",
       " ('2023-6-9', '$1 = Rp14,889'),\n",
       " ('2023-6-8', '$1 = Rp14,842'),\n",
       " ('2023-6-7', '$1 = Rp14,889'),\n",
       " ('2023-6-6', '$1 = Rp14,871'),\n",
       " ('2023-6-5', '$1 = Rp14,855'),\n",
       " ('2023-6-2', '$1 = Rp14,902'),\n",
       " ('2023-6-1', '$1 = Rp14,907'),\n",
       " ('2023-5-31', '$1 = Rp14,991'),\n",
       " ('2023-5-30', '$1 = Rp14,983'),\n",
       " ('2023-5-29', '$1 = Rp14,964'),\n",
       " ('2023-5-26', '$1 = Rp15,008'),\n",
       " ('2023-5-25', '$1 = Rp14,968'),\n",
       " ('2023-5-24', '$1 = Rp14,943'),\n",
       " ('2023-5-23', '$1 = Rp14,904'),\n",
       " ('2023-5-22', '$1 = Rp14,893'),\n",
       " ('2023-5-19', '$1 = Rp14,936'),\n",
       " ('2023-5-18', '$1 = Rp14,923'),\n",
       " ('2023-5-17', '$1 = Rp14,853'),\n",
       " ('2023-5-16', '$1 = Rp14,877'),\n",
       " ('2023-5-15', '$1 = Rp14,789'),\n",
       " ('2023-5-12', '$1 = Rp14,844'),\n",
       " ('2023-5-11', '$1 = Rp14,776'),\n",
       " ('2023-5-10', '$1 = Rp14,698'),\n",
       " ('2023-5-9', '$1 = Rp14,776'),\n",
       " ('2023-5-8', '$1 = Rp14,744'),\n",
       " ('2023-5-5', '$1 = Rp14,675'),\n",
       " ('2023-5-4', '$1 = Rp14,699'),\n",
       " ('2023-5-3', '$1 = Rp14,680'),\n",
       " ('2023-5-2', '$1 = Rp14,747'),\n",
       " ('2023-5-1', '$1 = Rp14,677'),\n",
       " ('2023-4-28', '$1 = Rp14,674'),\n",
       " ('2023-4-27', '$1 = Rp14,691'),\n",
       " ('2023-4-26', '$1 = Rp14,841'),\n",
       " ('2023-4-25', '$1 = Rp14,940'),\n",
       " ('2023-4-24', '$1 = Rp14,934'),\n",
       " ('2023-4-21', '$1 = Rp14,936'),\n",
       " ('2023-4-20', '$1 = Rp14,954'),\n",
       " ('2023-4-19', '$1 = Rp14,995'),\n",
       " ('2023-4-18', '$1 = Rp14,889'),\n",
       " ('2023-4-17', '$1 = Rp14,850'),\n",
       " ('2023-4-14', '$1 = Rp14,782'),\n",
       " ('2023-4-13', '$1 = Rp14,722'),\n",
       " ('2023-4-12', '$1 = Rp14,835'),\n",
       " ('2023-4-11', '$1 = Rp14,915'),\n",
       " ('2023-4-10', '$1 = Rp14,950'),\n",
       " ('2023-4-7', '$1 = Rp14,941'),\n",
       " ('2023-4-6', '$1 = Rp14,931'),\n",
       " ('2023-4-5', '$1 = Rp14,960'),\n",
       " ('2023-4-4', '$1 = Rp14,957'),\n",
       " ('2023-4-3', '$1 = Rp14,922'),\n",
       " ('2023-3-31', '$1 = Rp14,969'),\n",
       " ('2023-3-30', '$1 = Rp15,024'),\n",
       " ('2023-3-29', '$1 = Rp15,034'),\n",
       " ('2023-3-28', '$1 = Rp15,060'),\n",
       " ('2023-3-27', '$1 = Rp15,107'),\n",
       " ('2023-3-24', '$1 = Rp15,165'),\n",
       " ('2023-3-23', '$1 = Rp15,085'),\n",
       " ('2023-3-22', '$1 = Rp15,253'),\n",
       " ('2023-3-21', '$1 = Rp15,301'),\n",
       " ('2023-3-20', '$1 = Rp15,343'),\n",
       " ('2023-3-17', '$1 = Rp15,375'),\n",
       " ('2023-3-16', '$1 = Rp15,429'),\n",
       " ('2023-3-15', '$1 = Rp15,459'),\n",
       " ('2023-3-14', '$1 = Rp15,380'),\n",
       " ('2023-3-13', '$1 = Rp15,416'),\n",
       " ('2023-3-10', '$1 = Rp15,503'),\n",
       " ('2023-3-9', '$1 = Rp15,495'),\n",
       " ('2023-3-8', '$1 = Rp15,449'),\n",
       " ('2023-3-7', '$1 = Rp15,429'),\n",
       " ('2023-3-6', '$1 = Rp15,354')]"
      ]
     },
     "execution_count": 8,
     "metadata": {},
     "output_type": "execute_result"
    }
   ],
   "source": [
    "temp = [] #initiating a tuple\n",
    "\n",
    "for i in range(1, row_length):\n",
    "\n",
    "    #perintah untuk mendapatkan tanggal\n",
    "    tanggal = table.find_all('a', attrs={'class':'n'})[i].text\n",
    "\n",
    "    #perintah untuk mendapatkan kurs\n",
    "    kurs = table.find_all('span', attrs={'class':'w'})[i].text \n",
    "    kurs = kurs.strip()\n",
    "\n",
    "    temp.append((tanggal,kurs))\n",
    "    \n",
    "temp "
   ]
  },
  {
   "cell_type": "markdown",
   "metadata": {},
   "source": [
    "## Membuat Data Frame & Data wrangling"
   ]
  },
  {
   "cell_type": "markdown",
   "metadata": {},
   "source": [
    "Letakan array pada data frame"
   ]
  },
  {
   "cell_type": "code",
   "execution_count": 9,
   "metadata": {
    "ExecuteTime": {
     "end_time": "2020-01-13T05:12:41.517372Z",
     "start_time": "2020-01-13T05:12:29.130015Z"
    }
   },
   "outputs": [
    {
     "data": {
      "text/html": [
       "<div>\n",
       "<style scoped>\n",
       "    .dataframe tbody tr th:only-of-type {\n",
       "        vertical-align: middle;\n",
       "    }\n",
       "\n",
       "    .dataframe tbody tr th {\n",
       "        vertical-align: top;\n",
       "    }\n",
       "\n",
       "    .dataframe thead th {\n",
       "        text-align: right;\n",
       "    }\n",
       "</style>\n",
       "<table border=\"1\" class=\"dataframe\">\n",
       "  <thead>\n",
       "    <tr style=\"text-align: right;\">\n",
       "      <th></th>\n",
       "      <th>tanggal</th>\n",
       "      <th>kurs</th>\n",
       "    </tr>\n",
       "  </thead>\n",
       "  <tbody>\n",
       "    <tr>\n",
       "      <th>0</th>\n",
       "      <td>2023-8-31</td>\n",
       "      <td>$1 = Rp15,225</td>\n",
       "    </tr>\n",
       "    <tr>\n",
       "      <th>1</th>\n",
       "      <td>2023-8-30</td>\n",
       "      <td>$1 = Rp15,223</td>\n",
       "    </tr>\n",
       "    <tr>\n",
       "      <th>2</th>\n",
       "      <td>2023-8-29</td>\n",
       "      <td>$1 = Rp15,202</td>\n",
       "    </tr>\n",
       "    <tr>\n",
       "      <th>3</th>\n",
       "      <td>2023-8-28</td>\n",
       "      <td>$1 = Rp15,248</td>\n",
       "    </tr>\n",
       "    <tr>\n",
       "      <th>4</th>\n",
       "      <td>2023-8-25</td>\n",
       "      <td>$1 = Rp15,298</td>\n",
       "    </tr>\n",
       "  </tbody>\n",
       "</table>\n",
       "</div>"
      ],
      "text/plain": [
       "     tanggal           kurs\n",
       "0  2023-8-31  $1 = Rp15,225\n",
       "1  2023-8-30  $1 = Rp15,223\n",
       "2  2023-8-29  $1 = Rp15,202\n",
       "3  2023-8-28  $1 = Rp15,248\n",
       "4  2023-8-25  $1 = Rp15,298"
      ]
     },
     "execution_count": 9,
     "metadata": {},
     "output_type": "execute_result"
    }
   ],
   "source": [
    "import pandas as pd\n",
    "\n",
    "df = pd.DataFrame(temp, columns = ('tanggal','kurs'))\n",
    "df.head()"
   ]
  },
  {
   "cell_type": "markdown",
   "metadata": {},
   "source": [
    "Melakukan pengecekan tipe data, apakah sudah sesuai, untuk format tanggal dan kurs"
   ]
  },
  {
   "cell_type": "code",
   "execution_count": 10,
   "metadata": {},
   "outputs": [
    {
     "data": {
      "text/plain": [
       "tanggal    object\n",
       "kurs       object\n",
       "dtype: object"
      ]
     },
     "execution_count": 10,
     "metadata": {},
     "output_type": "execute_result"
    }
   ],
   "source": [
    "df.dtypes"
   ]
  },
  {
   "cell_type": "markdown",
   "metadata": {},
   "source": [
    "Mengubah format tanggal yang semula object menjadi datetime"
   ]
  },
  {
   "cell_type": "code",
   "execution_count": 11,
   "metadata": {
    "scrolled": true
   },
   "outputs": [
    {
     "data": {
      "text/plain": [
       "tanggal    datetime64[ns]\n",
       "kurs               object\n",
       "dtype: object"
      ]
     },
     "execution_count": 11,
     "metadata": {},
     "output_type": "execute_result"
    }
   ],
   "source": [
    "df['tanggal'] = pd.to_datetime(df['tanggal'])\n",
    "df['kurs'] = df['kurs'].str.replace('$1 = Rp', '',regex=False)\n",
    "df.dtypes"
   ]
  },
  {
   "cell_type": "markdown",
   "metadata": {},
   "source": [
    "Mengubah format kurs yang semula object menjadi integer"
   ]
  },
  {
   "cell_type": "code",
   "execution_count": 12,
   "metadata": {},
   "outputs": [
    {
     "data": {
      "text/plain": [
       "tanggal    datetime64[ns]\n",
       "kurs                Int64\n",
       "dtype: object"
      ]
     },
     "execution_count": 12,
     "metadata": {},
     "output_type": "execute_result"
    }
   ],
   "source": [
    "df['kurs'] = df['kurs'].str.replace(',', '',)\n",
    "df['kurs'] = df['kurs'].astype('Int64')\n",
    "df.dtypes"
   ]
  },
  {
   "cell_type": "markdown",
   "metadata": {},
   "source": [
    "Menampilkan data dalam bentuk grafik"
   ]
  },
  {
   "cell_type": "code",
   "execution_count": 13,
   "metadata": {
    "scrolled": true
   },
   "outputs": [
    {
     "data": {
      "text/plain": [
       "<Axes: xlabel='tanggal'>"
      ]
     },
     "execution_count": 13,
     "metadata": {},
     "output_type": "execute_result"
    },
    {
     "data": {
      "image/png": "[encoded data removed]",
      "text/plain": [
       "<Figure size 640x480 with 1 Axes>"
      ]
     },
     "metadata": {},
     "output_type": "display_data"
    }
   ],
   "source": [
    "df = df.set_index('tanggal')\n",
    "df.plot()"
   ]
  },
  {
   "cell_type": "markdown",
   "metadata": {},
   "source": [
    "### Menampilkan hasil scrapping ke dalam dashboard melalui tool flask\n",
    "\n",
    "- Mem-copy hasil scrapping di file `app.py`\n",
    "- Melakukan penyesuain pada file `index.html`"
   ]
  },
  {
   "cell_type": "markdown",
   "metadata": {},
   "source": [
    "## Analisis dan kesimpulan"
   ]
  },
  {
   "cell_type": "code",
   "execution_count": 14,
   "metadata": {
    "scrolled": false
   },
   "outputs": [
    {
     "data": {
      "text/plain": [
       "count           129.0\n",
       "mean     15042.286822\n",
       "std        202.866689\n",
       "min           14674.0\n",
       "25%           14907.0\n",
       "50%           15008.0\n",
       "75%           15202.0\n",
       "max           15503.0\n",
       "Name: kurs, dtype: Float64"
      ]
     },
     "execution_count": 14,
     "metadata": {},
     "output_type": "execute_result"
    }
   ],
   "source": [
    "df['kurs'].describe()"
   ]
  },
  {
   "cell_type": "code",
   "execution_count": 15,
   "metadata": {
    "scrolled": true
   },
   "outputs": [],
   "source": [
    "df_1 = df.reset_index()"
   ]
  },
  {
   "cell_type": "code",
   "execution_count": 16,
   "metadata": {},
   "outputs": [
    {
     "data": {
      "text/html": [
       "<div>\n",
       "<style scoped>\n",
       "    .dataframe tbody tr th:only-of-type {\n",
       "        vertical-align: middle;\n",
       "    }\n",
       "\n",
       "    .dataframe tbody tr th {\n",
       "        vertical-align: top;\n",
       "    }\n",
       "\n",
       "    .dataframe thead th {\n",
       "        text-align: right;\n",
       "    }\n",
       "</style>\n",
       "<table border=\"1\" class=\"dataframe\">\n",
       "  <thead>\n",
       "    <tr style=\"text-align: right;\">\n",
       "      <th></th>\n",
       "      <th>tanggal</th>\n",
       "      <th>kurs</th>\n",
       "    </tr>\n",
       "  </thead>\n",
       "  <tbody>\n",
       "    <tr>\n",
       "      <th>0</th>\n",
       "      <td>2023-08-31</td>\n",
       "      <td>15225</td>\n",
       "    </tr>\n",
       "    <tr>\n",
       "      <th>1</th>\n",
       "      <td>2023-08-30</td>\n",
       "      <td>15223</td>\n",
       "    </tr>\n",
       "    <tr>\n",
       "      <th>2</th>\n",
       "      <td>2023-08-29</td>\n",
       "      <td>15202</td>\n",
       "    </tr>\n",
       "    <tr>\n",
       "      <th>3</th>\n",
       "      <td>2023-08-28</td>\n",
       "      <td>15248</td>\n",
       "    </tr>\n",
       "    <tr>\n",
       "      <th>4</th>\n",
       "      <td>2023-08-25</td>\n",
       "      <td>15298</td>\n",
       "    </tr>\n",
       "  </tbody>\n",
       "</table>\n",
       "</div>"
      ],
      "text/plain": [
       "     tanggal   kurs\n",
       "0 2023-08-31  15225\n",
       "1 2023-08-30  15223\n",
       "2 2023-08-29  15202\n",
       "3 2023-08-28  15248\n",
       "4 2023-08-25  15298"
      ]
     },
     "execution_count": 16,
     "metadata": {},
     "output_type": "execute_result"
    }
   ],
   "source": [
    "df_1.head()"
   ]
  },
  {
   "cell_type": "code",
   "execution_count": 17,
   "metadata": {},
   "outputs": [],
   "source": [
    "df_1['tanggal'] = df_1['tanggal'].dt.day_name()"
   ]
  },
  {
   "cell_type": "code",
   "execution_count": 18,
   "metadata": {
    "scrolled": true
   },
   "outputs": [
    {
     "data": {
      "text/html": [
       "<div>\n",
       "<style scoped>\n",
       "    .dataframe tbody tr th:only-of-type {\n",
       "        vertical-align: middle;\n",
       "    }\n",
       "\n",
       "    .dataframe tbody tr th {\n",
       "        vertical-align: top;\n",
       "    }\n",
       "\n",
       "    .dataframe thead th {\n",
       "        text-align: right;\n",
       "    }\n",
       "</style>\n",
       "<table border=\"1\" class=\"dataframe\">\n",
       "  <thead>\n",
       "    <tr style=\"text-align: right;\">\n",
       "      <th></th>\n",
       "      <th>tanggal</th>\n",
       "      <th>kurs</th>\n",
       "    </tr>\n",
       "  </thead>\n",
       "  <tbody>\n",
       "    <tr>\n",
       "      <th>0</th>\n",
       "      <td>Thursday</td>\n",
       "      <td>15225</td>\n",
       "    </tr>\n",
       "    <tr>\n",
       "      <th>1</th>\n",
       "      <td>Wednesday</td>\n",
       "      <td>15223</td>\n",
       "    </tr>\n",
       "    <tr>\n",
       "      <th>2</th>\n",
       "      <td>Tuesday</td>\n",
       "      <td>15202</td>\n",
       "    </tr>\n",
       "    <tr>\n",
       "      <th>3</th>\n",
       "      <td>Monday</td>\n",
       "      <td>15248</td>\n",
       "    </tr>\n",
       "    <tr>\n",
       "      <th>4</th>\n",
       "      <td>Friday</td>\n",
       "      <td>15298</td>\n",
       "    </tr>\n",
       "    <tr>\n",
       "      <th>...</th>\n",
       "      <td>...</td>\n",
       "      <td>...</td>\n",
       "    </tr>\n",
       "    <tr>\n",
       "      <th>124</th>\n",
       "      <td>Friday</td>\n",
       "      <td>15503</td>\n",
       "    </tr>\n",
       "    <tr>\n",
       "      <th>125</th>\n",
       "      <td>Thursday</td>\n",
       "      <td>15495</td>\n",
       "    </tr>\n",
       "    <tr>\n",
       "      <th>126</th>\n",
       "      <td>Wednesday</td>\n",
       "      <td>15449</td>\n",
       "    </tr>\n",
       "    <tr>\n",
       "      <th>127</th>\n",
       "      <td>Tuesday</td>\n",
       "      <td>15429</td>\n",
       "    </tr>\n",
       "    <tr>\n",
       "      <th>128</th>\n",
       "      <td>Monday</td>\n",
       "      <td>15354</td>\n",
       "    </tr>\n",
       "  </tbody>\n",
       "</table>\n",
       "<p>129 rows × 2 columns</p>\n",
       "</div>"
      ],
      "text/plain": [
       "       tanggal   kurs\n",
       "0     Thursday  15225\n",
       "1    Wednesday  15223\n",
       "2      Tuesday  15202\n",
       "3       Monday  15248\n",
       "4       Friday  15298\n",
       "..         ...    ...\n",
       "124     Friday  15503\n",
       "125   Thursday  15495\n",
       "126  Wednesday  15449\n",
       "127    Tuesday  15429\n",
       "128     Monday  15354\n",
       "\n",
       "[129 rows x 2 columns]"
      ]
     },
     "execution_count": 18,
     "metadata": {},
     "output_type": "execute_result"
    }
   ],
   "source": [
    "df_1"
   ]
  },
  {
   "cell_type": "code",
   "execution_count": 19,
   "metadata": {
    "scrolled": true
   },
   "outputs": [
    {
     "data": {
      "text/plain": [
       "tanggal      5\n",
       "kurs       115\n",
       "dtype: int64"
      ]
     },
     "execution_count": 19,
     "metadata": {},
     "output_type": "execute_result"
    }
   ],
   "source": [
    "df_1.nunique()"
   ]
  },
  {
   "cell_type": "markdown",
   "metadata": {
    "ExecuteTime": {
     "end_time": "2020-01-13T05:20:56.208237Z",
     "start_time": "2020-01-13T05:20:56.076043Z"
    }
   },
   "source": [
    "1. Nilai kurs terendah pada USD 1 = Rp. 14.674 pada tanggal 28 April 2023\n",
    "2. Nilai kurs tertinggi pada USD 1 = Rp. 15.503 pada tanggal 10 Maret 2023\n",
    "3. Hari pertukaran kurs hanya pada 5 hari kerja (Senin-Jumat)\n",
    "4. Nilai kurs rata-rata sebesar USD 1 = Rp. 15.042"
   ]
  }
 ],
 "metadata": {
  "kernelspec": {
   "display_name": "capstone1",
   "language": "python",
   "name": "capstone1"
  },
  "language_info": {
   "codemirror_mode": {
    "name": "ipython",
    "version": 3
   },
   "file_extension": ".py",
   "mimetype": "text/x-python",
   "name": "python",
   "nbconvert_exporter": "python",
   "pygments_lexer": "ipython3",
   "version": "3.11.3"
  }
 },
 "nbformat": 4,
 "nbformat_minor": 2
}
